{
 "cells": [
  {
   "cell_type": "markdown",
   "metadata": {},
   "source": [
    "# Analysis for Continuous Improvement\n",
    "\n",
    "Author Name: Lucy Carroll\n",
    "\n",
    "9-digit PID: 730320310\n",
    "\n",
    "Continuous Improvement embraces a belief there is _always room to make things better_. It is a mindset and process we value and practice in this course. In this assignment, you are able to practice continuous improvement and contribute to the design ideas of the course.\n",
    "\n",
    "## Brainstorming Ideas\n",
    "\n",
    "Reflect on your personal experiences and observations in COMP110 and **brainstorm modifications to the course that _create value_ beyond its current design**. When brainstorming, try not to be critical of the ideas you come up with regarding scale, stakeholders impacted, or for any other reasons. In the markdown cell below, brainstorm 3 to 5 ideas you think would create value for you.\n",
    "\n",
    "Each brainstormed idea should state a. the suggested change or addition, b. what the expected value created, and c. which specific stakeholders would benefit.  If helpful, expand on the following template \"The course should (state idea here) because it will (state value created here) for (insert stakeholders here).\"\n",
    "\n",
    "Example A: \"The course should use only examples from psychology experiments because it will be more relevant for students who are psychology majors.\"\n",
    "\n",
    "Example B: \"The course should not have post-lesson questions because they are not useful for most students in the class.\""
   ]
  },
  {
   "cell_type": "markdown",
   "metadata": {},
   "source": [
    "### Part 1. Creative Ideation\n",
    "\n",
    "1. This course should have shorter and more frequent exercises mixed amongst full-length programming exercises as a sort of prerequisite to the full-length exercises because it will ensure students can fully create in code the more basic concepts before using those concepts in a full-length exercise. \n",
    "2. If Tuesday classes were to continue to be asynchronous in the future, have a google form where students can submit topics they struggle with, and choose the top few to review with Kris on 1 or 2 Tuesdays a month during regularly scheduled class so students can have to opportunity to clarify questions from Kris' lectures with him.\n",
    "3. The course should have optional, assigned small study groups for conceptual work led by one or two UTA's 2-4 times a month in order for students to be able to master conceptual information together with oversight and assistance, without risk of breaking the honor code. \n",
    "4. This course should include a non-graded, post-programming exercise quiz to check in on students' understanding of what they have done in the programming assignment to ensure they are coming to the right conclusions and are comfortable and able to replicate similar work. This will also allow students to have a more concrete understanding of what exactly they need to work on when reaching out for help. \n",
    "5. This course should include an additional lesson towards the end of the course with an overview of other coding languages and where/how to start learning them in order to give a wider view on the different styles and methods of computer programming to students before they move on to other courses."
   ]
  },
  {
   "cell_type": "markdown",
   "metadata": {},
   "source": [
    "## Connecting with Available Data\n",
    "\n",
    "The data you have available for this analysis is limited to the anonymized course survey you and your peers filled out a few weeks ago. The data is found in the `survey.csv` file in this exercise directory. Each row represents an individual survey response. Each column has a description which can be found on the project write-up here: <https://22s.comp110.com/exercises/ex08.html>\n",
    "\n",
    "Review the list of available data and identify which one of your ideas _does not_, or is _least likely to_, have relevant data to support the analysis of your idea to create value. In the box below, identify which of your ideas lacks data and suggest how we might be able to collect this data in the future. One aspect of _continuous improvement_ is trying to avoid \"tunnel vision\" where possible improvements are not considered because there is no data available to analyze it. Identifying new data sources can unlock improvements!"
   ]
  },
  {
   "cell_type": "markdown",
   "metadata": {},
   "source": [
    "### Part 2. Identifying Missing Data\n",
    "\n",
    "1. Idea without sufficient data to analyze:\n",
    "My #3 idea: \n",
    "The course should have optional, assigned small study groups for conceptual work led by one or two UTA's 2-4 times a month in order for students to be able to master conceptual information together with oversight and assistance, without risk of breaking the honor code. \n",
    "2. Suggestion for how to collect data to support this idea in the future: In a survey, have a question asking how students study and comprehend information taught in a lesson with options multiple-select options like: a) alone, b) with a partner, c) with a small group, d) with a mentor/tutor, e) etc. From a question like that, you would have data on whether offering monitored small group studying  would  be aligned with students learning/studying modes. "
   ]
  },
  {
   "cell_type": "markdown",
   "metadata": {},
   "source": [
    "## Choosing an Idea to Analyze\n",
    "\n",
    "Consider those of your ideas which _do_ seem likely to have relevant data to analyze. If none of your ideas do, spend a few minutes and brainstorm another idea or two with the added connection of data available on hand and add those ideas to your brainstormed ideas list.\n",
    "\n",
    "Select the one idea which you believe is _most valuable_ to analyze relative to the others and has data to support the analysis of. In the markdown cell for Part 3 below, identify the idea you are exploring and articulate why you believe it is most valuable (e.g. widest impact, biggest opportunity for improvement, simplest change for significant improvement, and so on)."
   ]
  },
  {
   "cell_type": "markdown",
   "metadata": {},
   "source": [
    "### Part 3. Choosing Your Analysis\n",
    "\n",
    "1. Idea to analyze with available data:\n",
    "My #4 idea: \n",
    "This course should include a non-graded, post-programming exercise quiz to check in on students' understanding of what they have done in the programming assignment to ensure they are coming to the right conclusions and are comfortable and able to replicate similar work. This will also allow students to have a more concrete understanding of what exactly they need to work on when reaching out for help. \n",
    "2. This idea is more valuable than the others brainstormed because: The programming exercises are a huge part of our course grade and of the work we are turning in. Working on programming exercises is what most of my time outside of class is spent on when I'm working on COMP 110 work. Therefore, making sure students are fully understanding and applying their knowledge in these exercises is very important since they take up so much time and effort. Using the data about the effectiveness of the exercises is the data that is most aligned with my idea because if students think the exercises are ineffective, it's likely they aren't understanding them to their full advantage. Ensuring the programming exercises are helping as much as they should be has a very large impact, and it's a simple fix-  you just make a survey/quiz to get the gist on how students are feeling about the exercises.\n"
   ]
  },
  {
   "cell_type": "markdown",
   "metadata": {},
   "source": [
    "## Your Analysis\n",
    "\n",
    "Before you begin analysis, a reminder that we do not expect the data to support everyone's ideas and you can complete this exercise for full credit even if the data does not clearly support your suggestion or even completely refutes it. What we are looking for is a logical attempt to explore the data using the techniques you have learned up until now in a way that _either_ supports, refutes, or does not have a clear result and then to reflect on your findings after the analysis.\n",
    "\n",
    "Using the utility functions you created for the previous exercise, you will continue with your analysis in the following part. Before you begin, refer to the rubric on the technical expectations of this section in the exercise write-up.\n",
    "\n",
    "In this section, you are expected to interleave code and markdown cells such that for each step of your analysis you are starting with an English description of what you are planning to do next in a markdown cell, followed by a Python cell that performs that step of the analysis."
   ]
  },
  {
   "cell_type": "markdown",
   "metadata": {},
   "source": [
    "### Part 4. Analysis\n",
    "\n",
    "We begin by changing some settings in the notebook to automatically reload changes to imported files."
   ]
  },
  {
   "cell_type": "code",
   "execution_count": 31,
   "metadata": {},
   "outputs": [],
   "source": [
    "%reload_ext autoreload\n",
    "%autoreload 2"
   ]
  },
  {
   "cell_type": "markdown",
   "metadata": {},
   "source": [
    "We continue by importing the helper functions from `data_utils`."
   ]
  },
  {
   "cell_type": "code",
   "execution_count": 32,
   "metadata": {},
   "outputs": [],
   "source": [
    "\n",
    "from data_utils import read_csv_rows, columnar, head, select, count"
   ]
  },
  {
   "cell_type": "markdown",
   "metadata": {},
   "source": [
    "Next, ... (you take it from here and add additional code and markdown cells to read in the CSV file and process it as needed)"
   ]
  },
  {
   "cell_type": "markdown",
   "metadata": {},
   "source": [
    "The next code cell reads the survey data using \"read_csv_rows\" into rows and tells us how many rows and columns are in the data, in  addition the names of columns. "
   ]
  },
  {
   "cell_type": "code",
   "execution_count": 33,
   "metadata": {},
   "outputs": [
    {
     "name": "stdout",
     "output_type": "stream",
     "text": [
      "Number of rows: 620\n",
      "Number of columns: 35\n",
      "Columns: dict_keys(['row', 'year', 'unc_status', 'comp_major', 'primary_major', 'data_science', 'prereqs', 'prior_exp', 'ap_principles', 'ap_a', 'other_comp', 'prior_time', 'languages', 'hours_online_social', 'hours_online_work', 'lesson_time', 'sync_perf', 'all_sync', 'flipped_class', 'no_hybrid', 'own_notes', 'own_examples', 'oh_visits', 'ls_effective', 'lsqs_effective', 'programming_effective', 'qz_effective', 'oh_effective', 'tutoring_effective', 'pace', 'difficulty', 'understanding', 'interesting', 'valuable', 'would_recommend'])\n"
     ]
    }
   ],
   "source": [
    "SURVEY_DATA_CSV_FILE_PATH: str = \"../../data/survey.csv\"\n",
    "read_csv_rows(SURVEY_DATA_CSV_FILE_PATH)\n",
    "data_rows: list[dict[str, str]] = read_csv_rows(SURVEY_DATA_CSV_FILE_PATH)\n",
    "print(f\"Number of rows: {len(data_rows)}\")\n",
    "print(f\"Number of columns: {len(data_rows[0].keys())}\")\n",
    "print(f\"Columns: {data_rows[0].keys()}\")"
   ]
  },
  {
   "cell_type": "markdown",
   "metadata": {},
   "source": [
    "The next code cell will turn our row-oriented data into a column-oriented table using the \"columnar\" function so we can further dissect the data. Then, I will use the \"head\" function to isolate the first 5 rows of data as to not overwhelm and to  show the general idea of how the answers look for each column. Then, I will tabulate the results of the head function to create a visual chart of the data."
   ]
  },
  {
   "cell_type": "code",
   "execution_count": 34,
   "metadata": {},
   "outputs": [
    {
     "data": {
      "text/html": [
       "<table>\n",
       "<thead>\n",
       "<tr><th style=\"text-align: right;\">  row</th><th style=\"text-align: right;\">  year</th><th>unc_status                 </th><th>comp_major  </th><th>primary_major   </th><th>data_science  </th><th>prereqs                     </th><th>prior_exp                   </th><th>ap_principles  </th><th>ap_a  </th><th>other_comp                      </th><th>prior_time                  </th><th>languages               </th><th>hours_online_social  </th><th>hours_online_work  </th><th style=\"text-align: right;\">  lesson_time</th><th style=\"text-align: right;\">  sync_perf</th><th style=\"text-align: right;\">  all_sync</th><th style=\"text-align: right;\">  flipped_class</th><th style=\"text-align: right;\">  no_hybrid</th><th style=\"text-align: right;\">  own_notes</th><th style=\"text-align: right;\">  own_examples</th><th style=\"text-align: right;\">  oh_visits</th><th style=\"text-align: right;\">  ls_effective</th><th style=\"text-align: right;\">  lsqs_effective</th><th style=\"text-align: right;\">  programming_effective</th><th style=\"text-align: right;\">  qz_effective</th><th>oh_effective  </th><th>tutoring_effective  </th><th style=\"text-align: right;\">  pace</th><th style=\"text-align: right;\">  difficulty</th><th style=\"text-align: right;\">  understanding</th><th style=\"text-align: right;\">  interesting</th><th style=\"text-align: right;\">  valuable</th><th style=\"text-align: right;\">  would_recommend</th></tr>\n",
       "</thead>\n",
       "<tbody>\n",
       "<tr><td style=\"text-align: right;\">    0</td><td style=\"text-align: right;\">    22</td><td>Returning UNC Student      </td><td>No          </td><td>Mathematics     </td><td>No            </td><td>MATH 233, MATH 347, MATH 381</td><td>7-12 months                 </td><td>No             </td><td>No    </td><td>UNC                             </td><td>1 month or so               </td><td>Python, R / Matlab / SAS</td><td>3 to 5 hours         </td><td>0 to 2 hours       </td><td style=\"text-align: right;\">            6</td><td style=\"text-align: right;\">          2</td><td style=\"text-align: right;\">         2</td><td style=\"text-align: right;\">              1</td><td style=\"text-align: right;\">          2</td><td style=\"text-align: right;\">          4</td><td style=\"text-align: right;\">             4</td><td style=\"text-align: right;\">          0</td><td style=\"text-align: right;\">             7</td><td style=\"text-align: right;\">               3</td><td style=\"text-align: right;\">                      7</td><td style=\"text-align: right;\">             5</td><td>              </td><td>                    </td><td style=\"text-align: right;\">     1</td><td style=\"text-align: right;\">           1</td><td style=\"text-align: right;\">              7</td><td style=\"text-align: right;\">            5</td><td style=\"text-align: right;\">         6</td><td style=\"text-align: right;\">                5</td></tr>\n",
       "<tr><td style=\"text-align: right;\">    1</td><td style=\"text-align: right;\">    25</td><td>Returning UNC Student      </td><td>No          </td><td>Mathematics     </td><td>Yes           </td><td>MATH 130, MATH 231, STOR 155</td><td>None to less than one month!</td><td>               </td><td>      </td><td>                                </td><td>                            </td><td>                        </td><td>0 to 2 hours         </td><td>5 to 10 hours      </td><td style=\"text-align: right;\">            4</td><td style=\"text-align: right;\">          3</td><td style=\"text-align: right;\">         3</td><td style=\"text-align: right;\">              1</td><td style=\"text-align: right;\">          2</td><td style=\"text-align: right;\">          6</td><td style=\"text-align: right;\">             4</td><td style=\"text-align: right;\">          5</td><td style=\"text-align: right;\">             5</td><td style=\"text-align: right;\">               5</td><td style=\"text-align: right;\">                      5</td><td style=\"text-align: right;\">             5</td><td>7             </td><td>6                   </td><td style=\"text-align: right;\">     6</td><td style=\"text-align: right;\">           6</td><td style=\"text-align: right;\">              3</td><td style=\"text-align: right;\">            4</td><td style=\"text-align: right;\">         6</td><td style=\"text-align: right;\">                4</td></tr>\n",
       "<tr><td style=\"text-align: right;\">    2</td><td style=\"text-align: right;\">    25</td><td>Incoming First-year Student</td><td>Yes - BA    </td><td>Computer Science</td><td>No            </td><td>MATH 130, MATH 152, MATH 210</td><td>None to less than one month!</td><td>               </td><td>      </td><td>                                </td><td>                            </td><td>                        </td><td>3 to 5 hours         </td><td>5 to 10 hours      </td><td style=\"text-align: right;\">            3</td><td style=\"text-align: right;\">          3</td><td style=\"text-align: right;\">         4</td><td style=\"text-align: right;\">              2</td><td style=\"text-align: right;\">          1</td><td style=\"text-align: right;\">          7</td><td style=\"text-align: right;\">             7</td><td style=\"text-align: right;\">          2</td><td style=\"text-align: right;\">             5</td><td style=\"text-align: right;\">               6</td><td style=\"text-align: right;\">                      7</td><td style=\"text-align: right;\">             7</td><td>4             </td><td>                    </td><td style=\"text-align: right;\">     6</td><td style=\"text-align: right;\">           4</td><td style=\"text-align: right;\">              6</td><td style=\"text-align: right;\">            7</td><td style=\"text-align: right;\">         7</td><td style=\"text-align: right;\">                7</td></tr>\n",
       "<tr><td style=\"text-align: right;\">    3</td><td style=\"text-align: right;\">    24</td><td>Returning UNC Student      </td><td>Yes - BS    </td><td>Computer Science</td><td>Maybe         </td><td>MATH 231, MATH 232, STOR 155</td><td>2-6 months                  </td><td>No             </td><td>No    </td><td>High school course (IB or other)</td><td>None to less than one month!</td><td>Python                  </td><td>3 to 5 hours         </td><td>3 to 5 hours       </td><td style=\"text-align: right;\">            5</td><td style=\"text-align: right;\">          5</td><td style=\"text-align: right;\">         4</td><td style=\"text-align: right;\">              3</td><td style=\"text-align: right;\">          3</td><td style=\"text-align: right;\">          6</td><td style=\"text-align: right;\">             5</td><td style=\"text-align: right;\">          1</td><td style=\"text-align: right;\">             6</td><td style=\"text-align: right;\">               3</td><td style=\"text-align: right;\">                      5</td><td style=\"text-align: right;\">             5</td><td>5             </td><td>4                   </td><td style=\"text-align: right;\">     4</td><td style=\"text-align: right;\">           4</td><td style=\"text-align: right;\">              5</td><td style=\"text-align: right;\">            6</td><td style=\"text-align: right;\">         6</td><td style=\"text-align: right;\">                6</td></tr>\n",
       "</tbody>\n",
       "</table>"
      ],
      "text/plain": [
       "'<table>\\n<thead>\\n<tr><th style=\"text-align: right;\">  row</th><th style=\"text-align: right;\">  year</th><th>unc_status                 </th><th>comp_major  </th><th>primary_major   </th><th>data_science  </th><th>prereqs                     </th><th>prior_exp                   </th><th>ap_principles  </th><th>ap_a  </th><th>other_comp                      </th><th>prior_time                  </th><th>languages               </th><th>hours_online_social  </th><th>hours_online_work  </th><th style=\"text-align: right;\">  lesson_time</th><th style=\"text-align: right;\">  sync_perf</th><th style=\"text-align: right;\">  all_sync</th><th style=\"text-align: right;\">  flipped_class</th><th style=\"text-align: right;\">  no_hybrid</th><th style=\"text-align: right;\">  own_notes</th><th style=\"text-align: right;\">  own_examples</th><th style=\"text-align: right;\">  oh_visits</th><th style=\"text-align: right;\">  ls_effective</th><th style=\"text-align: right;\">  lsqs_effective</th><th style=\"text-align: right;\">  programming_effective</th><th style=\"text-align: right;\">  qz_effective</th><th>oh_effective  </th><th>tutoring_effective  </th><th style=\"text-align: right;\">  pace</th><th style=\"text-align: right;\">  difficulty</th><th style=\"text-align: right;\">  understanding</th><th style=\"text-align: right;\">  interesting</th><th style=\"text-align: right;\">  valuable</th><th style=\"text-align: right;\">  would_recommend</th></tr>\\n</thead>\\n<tbody>\\n<tr><td style=\"text-align: right;\">    0</td><td style=\"text-align: right;\">    22</td><td>Returning UNC Student      </td><td>No          </td><td>Mathematics     </td><td>No            </td><td>MATH 233, MATH 347, MATH 381</td><td>7-12 months                 </td><td>No             </td><td>No    </td><td>UNC                             </td><td>1 month or so               </td><td>Python, R / Matlab / SAS</td><td>3 to 5 hours         </td><td>0 to 2 hours       </td><td style=\"text-align: right;\">            6</td><td style=\"text-align: right;\">          2</td><td style=\"text-align: right;\">         2</td><td style=\"text-align: right;\">              1</td><td style=\"text-align: right;\">          2</td><td style=\"text-align: right;\">          4</td><td style=\"text-align: right;\">             4</td><td style=\"text-align: right;\">          0</td><td style=\"text-align: right;\">             7</td><td style=\"text-align: right;\">               3</td><td style=\"text-align: right;\">                      7</td><td style=\"text-align: right;\">             5</td><td>              </td><td>                    </td><td style=\"text-align: right;\">     1</td><td style=\"text-align: right;\">           1</td><td style=\"text-align: right;\">              7</td><td style=\"text-align: right;\">            5</td><td style=\"text-align: right;\">         6</td><td style=\"text-align: right;\">                5</td></tr>\\n<tr><td style=\"text-align: right;\">    1</td><td style=\"text-align: right;\">    25</td><td>Returning UNC Student      </td><td>No          </td><td>Mathematics     </td><td>Yes           </td><td>MATH 130, MATH 231, STOR 155</td><td>None to less than one month!</td><td>               </td><td>      </td><td>                                </td><td>                            </td><td>                        </td><td>0 to 2 hours         </td><td>5 to 10 hours      </td><td style=\"text-align: right;\">            4</td><td style=\"text-align: right;\">          3</td><td style=\"text-align: right;\">         3</td><td style=\"text-align: right;\">              1</td><td style=\"text-align: right;\">          2</td><td style=\"text-align: right;\">          6</td><td style=\"text-align: right;\">             4</td><td style=\"text-align: right;\">          5</td><td style=\"text-align: right;\">             5</td><td style=\"text-align: right;\">               5</td><td style=\"text-align: right;\">                      5</td><td style=\"text-align: right;\">             5</td><td>7             </td><td>6                   </td><td style=\"text-align: right;\">     6</td><td style=\"text-align: right;\">           6</td><td style=\"text-align: right;\">              3</td><td style=\"text-align: right;\">            4</td><td style=\"text-align: right;\">         6</td><td style=\"text-align: right;\">                4</td></tr>\\n<tr><td style=\"text-align: right;\">    2</td><td style=\"text-align: right;\">    25</td><td>Incoming First-year Student</td><td>Yes - BA    </td><td>Computer Science</td><td>No            </td><td>MATH 130, MATH 152, MATH 210</td><td>None to less than one month!</td><td>               </td><td>      </td><td>                                </td><td>                            </td><td>                        </td><td>3 to 5 hours         </td><td>5 to 10 hours      </td><td style=\"text-align: right;\">            3</td><td style=\"text-align: right;\">          3</td><td style=\"text-align: right;\">         4</td><td style=\"text-align: right;\">              2</td><td style=\"text-align: right;\">          1</td><td style=\"text-align: right;\">          7</td><td style=\"text-align: right;\">             7</td><td style=\"text-align: right;\">          2</td><td style=\"text-align: right;\">             5</td><td style=\"text-align: right;\">               6</td><td style=\"text-align: right;\">                      7</td><td style=\"text-align: right;\">             7</td><td>4             </td><td>                    </td><td style=\"text-align: right;\">     6</td><td style=\"text-align: right;\">           4</td><td style=\"text-align: right;\">              6</td><td style=\"text-align: right;\">            7</td><td style=\"text-align: right;\">         7</td><td style=\"text-align: right;\">                7</td></tr>\\n<tr><td style=\"text-align: right;\">    3</td><td style=\"text-align: right;\">    24</td><td>Returning UNC Student      </td><td>Yes - BS    </td><td>Computer Science</td><td>Maybe         </td><td>MATH 231, MATH 232, STOR 155</td><td>2-6 months                  </td><td>No             </td><td>No    </td><td>High school course (IB or other)</td><td>None to less than one month!</td><td>Python                  </td><td>3 to 5 hours         </td><td>3 to 5 hours       </td><td style=\"text-align: right;\">            5</td><td style=\"text-align: right;\">          5</td><td style=\"text-align: right;\">         4</td><td style=\"text-align: right;\">              3</td><td style=\"text-align: right;\">          3</td><td style=\"text-align: right;\">          6</td><td style=\"text-align: right;\">             5</td><td style=\"text-align: right;\">          1</td><td style=\"text-align: right;\">             6</td><td style=\"text-align: right;\">               3</td><td style=\"text-align: right;\">                      5</td><td style=\"text-align: right;\">             5</td><td>5             </td><td>4                   </td><td style=\"text-align: right;\">     4</td><td style=\"text-align: right;\">           4</td><td style=\"text-align: right;\">              5</td><td style=\"text-align: right;\">            6</td><td style=\"text-align: right;\">         6</td><td style=\"text-align: right;\">                6</td></tr>\\n</tbody>\\n</table>'"
      ]
     },
     "execution_count": 34,
     "metadata": {},
     "output_type": "execute_result"
    }
   ],
   "source": [
    "from tabulate import tabulate\n",
    "data_cols: dict[str, list[str]] = columnar(data_rows)\n",
    "data_cols_head: dict[str, list[str]] = head(data_cols, 5)\n",
    "tabulate(head(data_cols, 4), data_cols.keys(), \"html\")"
   ]
  },
  {
   "cell_type": "markdown",
   "metadata": {},
   "source": [
    "The next code cell will isolate the column were are interested in: \"programming_effective.\" Since we have used the \"columnar\" and \"head\" functions to orient our data to a column-based table, we can easily isolate that column with the \"select\" function. Our output is the name of the column: programming_effective, and then all of the answers for that column from the survey."
   ]
  },
  {
   "cell_type": "code",
   "execution_count": 35,
   "metadata": {},
   "outputs": [
    {
     "name": "stdout",
     "output_type": "stream",
     "text": [
      "{'programming_effective': ['7', '5', '7', '5', '6', '7', '7', '7', '7', '7', '7', '5', '6', '7', '7', '6', '7', '4', '6', '7', '7', '7', '7', '6', '5', '6', '7', '6', '7', '6', '6', '5', '2', '7', '7', '6', '7', '6', '7', '5', '6', '7', '7', '5', '5', '7', '7', '5', '6', '6', '7', '7', '6', '7', '7', '5', '6', '6', '6', '7', '6', '7', '7', '7', '7', '7', '7', '7', '7', '6', '7', '5', '6', '7', '7', '7', '6', '7', '6', '4', '4', '6', '6', '7', '7', '7', '6', '7', '7', '7', '4', '3', '3', '1', '7', '7', '7', '7', '7', '7', '7', '6', '5', '6', '7', '7', '7', '7', '6', '6', '7', '5', '6', '4', '7', '6', '7', '5', '7', '5', '7', '7', '6', '5', '7', '7', '6', '7', '7', '7', '7', '7', '6', '7', '7', '7', '7', '6', '6', '7', '5', '7', '7', '5', '6', '7', '5', '7', '7', '6', '7', '4', '5', '6', '5', '7', '6', '7', '6', '6', '7', '5', '7', '3', '5', '5', '6', '6', '7', '7', '7', '6', '1', '7', '7', '7', '7', '7', '7', '6', '7', '5', '7', '5', '7', '5', '6', '7', '7', '6', '2', '7', '7', '4', '7', '6', '6', '7', '6', '6', '4', '6', '7', '7', '6', '7', '2', '7', '6', '7', '7', '7', '7', '6', '6', '5', '7', '7', '5', '7', '6', '7', '4', '7', '7', '7', '7', '7', '7', '7', '7', '7', '7', '7', '6', '5', '6', '6', '5', '5', '4', '7', '6', '5', '5', '7', '7', '7', '6', '5', '7', '6', '7', '7', '2', '7', '4', '6', '7', '6', '7', '4', '6', '7', '7', '6', '3', '6', '7', '5', '7', '3', '7', '7', '7', '6', '7', '5', '7', '5', '7', '5', '6', '6', '6', '7', '7', '5', '2', '7', '7', '6', '7', '7', '7', '6', '6', '7', '7', '5', '6', '6', '7', '7', '7', '7', '5', '7', '7', '7', '7', '7', '7', '6', '4', '7', '7', '4', '5', '5', '6', '7', '7', '6', '5', '5', '7', '4', '7', '7', '7', '1', '7', '7', '7', '7', '7', '7', '7', '7', '7', '4', '7', '7', '7', '5', '6', '6', '6', '6', '7', '4', '7', '4', '6', '7', '7', '7', '5', '6', '4', '6', '5', '7', '7', '7', '7', '5', '7', '6', '6', '7', '6', '6', '4', '5', '5', '7', '7', '5', '7', '6', '5', '7', '7', '4', '7', '6', '7', '7', '7', '5', '5', '7', '7', '3', '7', '7', '4', '7', '7', '6', '7', '6', '5', '7', '6', '7', '7', '7', '7', '7', '7', '6', '7', '6', '7', '6', '6', '5', '6', '7', '7', '4', '3', '7', '6', '2', '7', '6', '7', '6', '4', '5', '7', '5', '7', '7', '5', '7', '6', '4', '7', '5', '7', '7', '6', '7', '7', '7', '7', '6', '2', '7', '7', '6', '6', '6', '6', '5', '7', '4', '5', '7', '7', '6', '6', '5', '6', '7', '6', '7', '5', '7', '7', '5', '7', '7', '7', '4', '7', '7', '7', '7', '6', '6', '7', '7', '7', '7', '6', '7', '7', '7', '1', '7', '6', '2', '7', '6', '7', '3', '6', '7', '7', '7', '5', '6', '6', '7', '6', '7', '4', '6', '4', '2', '6', '7', '6', '7', '7', '6', '6', '7', '7', '7', '7', '4', '7', '6', '2', '7', '7', '7', '5', '7', '7', '6', '6', '7', '5', '7', '7', '5', '6', '6', '6', '6', '7', '6', '7', '3', '7', '7', '6', '7', '4', '1', '7', '7', '7', '5', '5', '7', '4', '6', '7', '5', '7', '6', '7', '7', '6', '7', '7', '2', '7', '7', '5', '5', '6', '5', '4', '6', '7', '6', '6', '7', '5', '4', '7', '7', '7', '7', '7', '6', '6', '6', '7', '5', '5', '7', '6', '7', '7', '6', '7', '3', '7', '7', '7', '7', '7', '7', '5', '6', '7', '7', '6', '5']}\n"
     ]
    }
   ],
   "source": [
    "prog_eff_column: dict[str, list[str]] = select(data_cols, [\"programming_effective\"])\n",
    "print(f\"{prog_eff_column}\")"
   ]
  },
  {
   "cell_type": "markdown",
   "metadata": {},
   "source": [
    "Now that we've isolated the answers to the survey question about the effectiveness of the programming exercises (ranked 1-7), we can use the \"count\" function to create a dictionary with the value 1-7 and its frequency in the survey answers."
   ]
  },
  {
   "cell_type": "code",
   "execution_count": 36,
   "metadata": {},
   "outputs": [
    {
     "name": "stdout",
     "output_type": "stream",
     "text": [
      "These are the frequencies of the ratings 1-7 in the Programming Effectiveness survery question: {'7': 324, '5': 82, '6': 154, '4': 34, '2': 11, '3': 10, '1': 5}.\n"
     ]
    }
   ],
   "source": [
    "frequencies = count(prog_eff_column[\"programming_effective\"])\n",
    "print(f\"These are the frequencies of the ratings 1-7 in the Programming Effectiveness survery question: {frequencies}.\")"
   ]
  },
  {
   "cell_type": "markdown",
   "metadata": {},
   "source": [
    "Now, to find the ranked numbers what are most common (i.e, above 100 responses), we can use the \"most_common\" function (a function of my own design that isolates the rankings with more than 100 responses)."
   ]
  },
  {
   "cell_type": "code",
   "execution_count": 37,
   "metadata": {},
   "outputs": [
    {
     "name": "stdout",
     "output_type": "stream",
     "text": [
      "These are the most common numbers chosen to reflect the effectiveness of programming exercises in COMP 100 and their frequencies: {'7': 324, '6': 154}.\n"
     ]
    }
   ],
   "source": [
    "from data_utils import most_common\n",
    "top_numbers: dict[str, int] = most_common(frequencies)\n",
    "print(f\"These are the most common numbers chosen to reflect the effectiveness of programming exercises in COMP 100 and their frequencies: {top_numbers}.\")"
   ]
  },
  {
   "cell_type": "markdown",
   "metadata": {},
   "source": [
    "## Conclusion\n",
    "\n",
    "In the following markdown cell, write a reflective conclusion given the analysis you performed and identify recommendations.\n",
    "\n",
    "If your analysis of the data supports your idea, state your recommendation for the change and summarize the data analysys results you found which support it. Additionally, describe any extensions or refinements to this idea which might be explored further. Finally, discuss the potential costs, trade-offs, or stakeholders who may be negatively impacted by this proposed change.\n",
    "\n",
    "If your analysis of the data is inconclusive, summarize why your data analysis results were inconclusive in the support of your idea. Additionally, describe what experimental idea implementation or additional data collection might help build more confidence in assessing your idea. Finally, discuss the potential costs, trade-offs, or stakeholders who may be negatively impacted by experimenting with your idea.\n",
    "\n",
    "Finally, if your analysis of the data does not support it, summarize your data analysis results and why it refutes your idea. Discuss the potential costs, trade-offs, or stakeholders who may be negatively impacted by this proposed change. If you disagree with the validity of the findings, describe why your idea still makes sense to implement and what alternative data would better support it. If you agree with the validity of the data analysis, describe what alternate ideas or extensions you would explore instead. "
   ]
  },
  {
   "cell_type": "markdown",
   "metadata": {},
   "source": [
    "### Part 5. Conclusion\n",
    "\n",
    "In light of my results, which found that 324 students chose 7 and 154 chose 6 to reflect their percieved effectiveness of programming exercises (representing  Strongly Agree and Agree), I think my results are not in support of my idea. My idea was for a post-programming exercise non-graded check-in quiz to see how well students were understanding the exercises, with the assumption that if they were saying the exercises we ineffetive, it was likely they were not understanding the assignment or utilizing what it taught to it's full extent. Given that the results of my analysis favored asnwers that found the exercises to be effective, a check-in quiz might not be worth the extra work it would take to have it in another semester of COMP 110. The teachers and UTA's would have more work to do, as well as the students, to come to a similar conclusion as to what we found in the analysis:  the programming exercises are generally effective. An alternate idea I would explore is modifiying the actual survey that asked the question about the effectiveness of the exercises to gain more insight in to why they are helpful. Pehaps letting the students list which parts/sections/facets of the exercises they find most meaningful, helpful, or tests their understanding the best to find out what it is about programming assignments that makes them an effective learning strategy."
   ]
  }
 ],
 "metadata": {
  "interpreter": {
   "hash": "aee8b7b246df8f9039afb4144a1f6fd8d2ca17a180786b69acc140d282b71a49"
  },
  "kernelspec": {
   "display_name": "Python 3.10.2 64-bit",
   "language": "python",
   "name": "python3"
  },
  "language_info": {
   "codemirror_mode": {
    "name": "ipython",
    "version": 3
   },
   "file_extension": ".py",
   "mimetype": "text/x-python",
   "name": "python",
   "nbconvert_exporter": "python",
   "pygments_lexer": "ipython3",
   "version": "3.10.1"
  },
  "orig_nbformat": 4
 },
 "nbformat": 4,
 "nbformat_minor": 2
}
